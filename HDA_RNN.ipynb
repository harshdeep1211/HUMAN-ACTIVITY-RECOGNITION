{
  "nbformat": 4,
  "nbformat_minor": 0,
  "metadata": {
    "kernelspec": {
      "display_name": "Python 3",
      "language": "python",
      "name": "python3"
    },
    "language_info": {
      "codemirror_mode": {
        "name": "ipython",
        "version": 3
      },
      "file_extension": ".py",
      "mimetype": "text/x-python",
      "name": "python",
      "nbconvert_exporter": "python",
      "pygments_lexer": "ipython3",
      "version": "3.6.4"
    },
    "colab": {
      "name": "HDA_RNN.ipynb",
      "provenance": [],
      "collapsed_sections": []
    }
  },
  "cells": [
    {
      "cell_type": "code",
      "metadata": {
        "id": "wS_db7-FfQRo"
      },
      "source": [
        "import numpy as np\n",
        "import pandas as pd"
      ],
      "execution_count": null,
      "outputs": []
    },
    {
      "cell_type": "markdown",
      "metadata": {
        "id": "49FT4JdYfQRy"
      },
      "source": [
        "Activities are the class labels<br>\n",
        "It is a 6 class classification"
      ]
    },
    {
      "cell_type": "code",
      "metadata": {
        "id": "GMuMMGGBfQR0"
      },
      "source": [
        "ACTIVITIES = {\n",
        "    0: 'WALKING',\n",
        "    1: 'WALKING_UPSTAIRS',\n",
        "    2: 'WALKING_DOWNSTAIRS',\n",
        "    3: 'SITTING',\n",
        "    4: 'STANDING',\n",
        "    5: 'LAYING',\n",
        "}"
      ],
      "execution_count": null,
      "outputs": []
    },
    {
      "cell_type": "markdown",
      "metadata": {
        "id": "su9l-nySfQR1"
      },
      "source": [
        "Utility function to print the confusion matrix"
      ]
    },
    {
      "cell_type": "code",
      "metadata": {
        "id": "hkuV47w7fQR2"
      },
      "source": [
        "def confusion_matrix(Y_true, Y_pred):\n",
        "    Y_true = pd.Series([ACTIVITIES[y] for y in np.argmax(Y_true, axis=1)])\n",
        "    Y_pred = pd.Series([ACTIVITIES[y] for y in np.argmax(Y_pred, axis=1)])\n",
        "    return pd.crosstab(Y_true, Y_pred, rownames=['True'], colnames=['Pred'])"
      ],
      "execution_count": null,
      "outputs": []
    },
    {
      "cell_type": "markdown",
      "metadata": {
        "id": "RwN7yFy7fQR4"
      },
      "source": [
        "Data directory"
      ]
    },
    {
      "cell_type": "code",
      "metadata": {
        "id": "V4baCVuNfQR5"
      },
      "source": [
        "DATADIR = 'HAR/UCI'"
      ],
      "execution_count": null,
      "outputs": []
    },
    {
      "cell_type": "markdown",
      "metadata": {
        "id": "PRSkQLpVfQR6"
      },
      "source": [
        "Raw data signals<br>\n",
        "Signals are from Accelerometer and Gyroscope<br>\n",
        "The signals are in x,y,z directions<br>\n",
        "Sensor signals are filtered to have only body acceleration<br>\n",
        "excluding the acceleration due to gravity<br>\n",
        "Triaxial acceleration from the accelerometer is total acceleration"
      ]
    },
    {
      "cell_type": "code",
      "metadata": {
        "id": "TvezrY6ZfQR8"
      },
      "source": [
        "SIGNALS = [\n",
        "    \"body_acc_x\",\n",
        "    \"body_acc_y\",\n",
        "    \"body_acc_z\",\n",
        "    \"body_gyro_x\",\n",
        "    \"body_gyro_y\",\n",
        "    \"body_gyro_z\",\n",
        "    \"total_acc_x\",\n",
        "    \"total_acc_y\",\n",
        "    \"total_acc_z\"\n",
        "]"
      ],
      "execution_count": null,
      "outputs": []
    },
    {
      "cell_type": "markdown",
      "metadata": {
        "id": "4DsCa86hfQR9"
      },
      "source": [
        "Utility function to read the data from csv file"
      ]
    },
    {
      "cell_type": "code",
      "metadata": {
        "id": "PAZIbaytfQR-"
      },
      "source": [
        "def _read_csv(filename) -> object:\n",
        "    return pd.read_csv(filename, delim_whitespace=True, header=None)"
      ],
      "execution_count": null,
      "outputs": []
    },
    {
      "cell_type": "markdown",
      "metadata": {
        "id": "X7lxEEZFfQR_"
      },
      "source": [
        "Utility function to load the load"
      ]
    },
    {
      "cell_type": "code",
      "metadata": {
        "id": "W_AX8JN_fQSA"
      },
      "source": [
        "def load_signals(subset):\n",
        "    signals_data = []\n",
        "    for signal in SIGNALS:\n",
        "        filename: str = f'E:/HAR/UCI/{subset}/Inertial/{signal}_{subset}.txt'\n",
        "        signals_data.append(\n",
        "            _read_csv(filename).to_numpy()\n",
        "        )\n",
        "\n",
        "    \n",
        "    return np.transpose(signals_data, (1, 2, 0))"
      ],
      "execution_count": null,
      "outputs": []
    },
    {
      "cell_type": "code",
      "metadata": {
        "id": "pXQ0UTkwfQSC"
      },
      "source": [
        "def load_y(subset):\n",
        "    \n",
        "    filename = f'E:/HAR/UCI/{subset}/y_{subset}.txt'\n",
        "    y = _read_csv(filename)[0]\n",
        "    return pd.get_dummies(y).to_numpy()"
      ],
      "execution_count": null,
      "outputs": []
    },
    {
      "cell_type": "code",
      "metadata": {
        "id": "sRYbnPZUfQSD"
      },
      "source": [
        "def load_data():\n",
        "    \n",
        "    X_train, X_test = load_signals('train'), load_signals('test')\n",
        "    y_train, y_test = load_y('train'), load_y('test')\n",
        "    return X_train, X_test, y_train, y_test"
      ],
      "execution_count": null,
      "outputs": []
    },
    {
      "cell_type": "markdown",
      "metadata": {
        "id": "cXqTcvLjfQSE"
      },
      "source": [
        "Importing tensorflow"
      ]
    },
    {
      "cell_type": "markdown",
      "metadata": {
        "id": "KyZWLPLJfQSF"
      },
      "source": [
        "Loading the train and test data"
      ]
    },
    {
      "cell_type": "code",
      "metadata": {
        "id": "5TM1q1Q8fQSF"
      },
      "source": [
        "X_train, X_test, Y_train, Y_test = load_data()"
      ],
      "execution_count": null,
      "outputs": []
    },
    {
      "cell_type": "markdown",
      "metadata": {
        "id": "vKky7Yo7fQSG"
      },
      "source": [
        "Utility function to count the number of classes"
      ]
    },
    {
      "cell_type": "code",
      "metadata": {
        "id": "Qky_NpQ5fQSH"
      },
      "source": [
        "def _count_classes(y):\n",
        "    return len(set([tuple(category) for category in y]))"
      ],
      "execution_count": null,
      "outputs": []
    },
    {
      "cell_type": "code",
      "metadata": {
        "id": "ETUBj5yvfQSH"
      },
      "source": [
        "timesteps = len(X_train[0])\n",
        "input_dim = len(X_train[0][0])\n",
        "n_classes = _count_classes(Y_train)"
      ],
      "execution_count": null,
      "outputs": []
    },
    {
      "cell_type": "code",
      "metadata": {
        "id": "b_eS3VupfQSI"
      },
      "source": [
        "print(timesteps)\n",
        "print(input_dim)\n",
        "print(len(X_train))"
      ],
      "execution_count": null,
      "outputs": []
    },
    {
      "cell_type": "markdown",
      "metadata": {
        "id": "as8loWFjfQSJ"
      },
      "source": [
        "Importing tensorflow"
      ]
    },
    {
      "cell_type": "code",
      "metadata": {
        "id": "jDfAvHKbfQSJ"
      },
      "source": [
        "np.random.seed(42)\n",
        "import tensorflow as tf"
      ],
      "execution_count": null,
      "outputs": []
    },
    {
      "cell_type": "code",
      "metadata": {
        "id": "GULOtCC8fQSK"
      },
      "source": [
        "tf.random.set_seed(42)"
      ],
      "execution_count": null,
      "outputs": []
    },
    {
      "cell_type": "markdown",
      "metadata": {
        "id": "YblyilyNfQSL"
      },
      "source": [
        "Configuring a session"
      ]
    },
    {
      "cell_type": "code",
      "metadata": {
        "id": "ffae2OpBfQSL"
      },
      "source": [
        "session_conf = tf.compat.v1.ConfigProto(\n",
        "    intra_op_parallelism_threads=1,\n",
        "    inter_op_parallelism_threads=1\n",
        ")"
      ],
      "execution_count": null,
      "outputs": []
    },
    {
      "cell_type": "markdown",
      "metadata": {
        "id": "kNPO9tFffQSM"
      },
      "source": [
        "Import Keras"
      ]
    },
    {
      "cell_type": "code",
      "metadata": {
        "id": "nvtPWr7NfQSM"
      },
      "source": [
        "from tensorflow.python.keras import backend as K"
      ],
      "execution_count": null,
      "outputs": []
    },
    {
      "cell_type": "code",
      "metadata": {
        "id": "zqVwt6hLfQSN"
      },
      "source": [
        "sess = tf.compat.v1.Session(graph=tf.compat.v1.get_default_graph(), config=session_conf)\n",
        "K.set_session(sess)"
      ],
      "execution_count": null,
      "outputs": []
    },
    {
      "cell_type": "markdown",
      "metadata": {
        "id": "b451C0wAfQSO"
      },
      "source": [
        "Importing libraries"
      ]
    },
    {
      "cell_type": "code",
      "metadata": {
        "id": "XAUjR4erfQSO"
      },
      "source": [
        "from keras.models import Sequential\n",
        "from keras.layers import LSTM\n",
        "from keras.layers.core import Dense, Dropout"
      ],
      "execution_count": null,
      "outputs": []
    },
    {
      "cell_type": "markdown",
      "metadata": {
        "id": "ebS7BGtTfQSP"
      },
      "source": [
        "Initializing parameters"
      ]
    },
    {
      "cell_type": "code",
      "metadata": {
        "id": "I5l7PhmLfQSP"
      },
      "source": [
        "epochs = 30\n",
        "batch_size = 16\n",
        "n_hidden = 32"
      ],
      "execution_count": null,
      "outputs": []
    },
    {
      "cell_type": "markdown",
      "metadata": {
        "id": "SfH-rSfFfQSQ"
      },
      "source": [
        "Initiliazing the sequential model"
      ]
    },
    {
      "cell_type": "code",
      "metadata": {
        "id": "6-aLf0X5fQSR"
      },
      "source": [
        "model = Sequential()\n",
        "# Configuring the parameters\n",
        "model.add(LSTM(n_hidden, input_shape=(timesteps, input_dim)))\n",
        "# Adding a dropout layer\n",
        "model.add(Dropout(0.5))\n",
        "# Adding a dense output layer with sigmoid activation\n",
        "model.add(Dense(n_classes, activation='sigmoid'))\n",
        "model.summary()"
      ],
      "execution_count": null,
      "outputs": []
    },
    {
      "cell_type": "markdown",
      "metadata": {
        "id": "dx-_ruorfQSS"
      },
      "source": [
        "Compiling the model"
      ]
    },
    {
      "cell_type": "code",
      "metadata": {
        "id": "kG6QHofhfQSS"
      },
      "source": [
        "model.compile(loss='categorical_crossentropy',\n",
        "              optimizer='rmsprop',\n",
        "              metrics=['accuracy'])"
      ],
      "execution_count": null,
      "outputs": []
    },
    {
      "cell_type": "markdown",
      "metadata": {
        "id": "vQiBRKPPfQST"
      },
      "source": [
        "Training the model"
      ]
    },
    {
      "cell_type": "code",
      "metadata": {
        "id": "5FUFdCASfQST"
      },
      "source": [
        "model.fit(X_train,\n",
        "          Y_train,\n",
        "          batch_size=batch_size,\n",
        "          validation_data=(X_test, Y_test),\n",
        "          epochs=epochs)"
      ],
      "execution_count": null,
      "outputs": []
    },
    {
      "cell_type": "markdown",
      "metadata": {
        "id": "7XwoS5eafQSU"
      },
      "source": [
        "Confusion Matrix"
      ]
    },
    {
      "cell_type": "code",
      "metadata": {
        "id": "_PWKaArAfQSV"
      },
      "source": [
        "print(confusion_matrix(Y_test, model.predict(X_test)))"
      ],
      "execution_count": null,
      "outputs": []
    },
    {
      "cell_type": "code",
      "metadata": {
        "id": "eWun-cvVfQSV"
      },
      "source": [
        "score = model.evaluate(X_test, Y_test)"
      ],
      "execution_count": null,
      "outputs": []
    },
    {
      "cell_type": "code",
      "metadata": {
        "id": "o-JbglbBfQSW"
      },
      "source": [
        "print(score)"
      ],
      "execution_count": null,
      "outputs": []
    }
  ]
}